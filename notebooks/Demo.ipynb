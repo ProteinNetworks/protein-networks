{
 "cells": [
  {
   "cell_type": "code",
   "execution_count": null,
   "metadata": {},
   "outputs": [],
   "source": [
    "# Demonstrate what the current python package does"
   ]
  },
  {
   "cell_type": "code",
   "execution_count": null,
   "metadata": {},
   "outputs": [],
   "source": [
    "%load_ext autoreload\n",
    "%autoreload 2\n",
    "import proteinnetworks\n",
    "import logging"
   ]
  },
  {
   "cell_type": "code",
   "execution_count": null,
   "metadata": {},
   "outputs": [],
   "source": [
    "logging.basicConfig(level=logging.WARN)"
   ]
  },
  {
   "cell_type": "code",
   "execution_count": null,
   "metadata": {},
   "outputs": [],
   "source": [
    "db = proteinnetworks.database.Database()"
   ]
  },
  {
   "cell_type": "code",
   "execution_count": null,
   "metadata": {},
   "outputs": [],
   "source": [
    "inputArgs = {\"scaling\":3.0,\n",
    "\"edgelisttype\": \"atomic\",\n",
    "\"hydrogenstatus\": \"noH\",\n",
    "\"pdbref\": \"1pkn\",\n",
    "\"database\": db}\n",
    "proteinNetwork = proteinnetworks.network.Network(**inputArgs)"
   ]
  },
  {
   "cell_type": "code",
   "execution_count": null,
   "metadata": {},
   "outputs": [],
   "source": [
    "from bson.objectid import ObjectId"
   ]
  },
  {
   "cell_type": "code",
   "execution_count": null,
   "metadata": {
    "scrolled": true
   },
   "outputs": [],
   "source": [
    "partitionArgs = {\"pdbref\": \"1pkn\",\n",
    "                 \"edgelistid\": ObjectId(proteinNetwork.edgelistid),\n",
    "                 \"detectionmethod\": \"Infomap\",\n",
    "                \"N\": 1000,\n",
    "                \"database\": db}\n",
    "partition = proteinnetworks.partition.Partition(**partitionArgs)"
   ]
  },
  {
   "cell_type": "code",
   "execution_count": null,
   "metadata": {},
   "outputs": [],
   "source": [
    "partition.plotStripeDiagram(includePFAMDomains=True)"
   ]
  },
  {
   "cell_type": "code",
   "execution_count": null,
   "metadata": {},
   "outputs": [],
   "source": [
    "from IPython.display import Image\n",
    "from IPython.display import display\n"
   ]
  },
  {
   "cell_type": "code",
   "execution_count": null,
   "metadata": {},
   "outputs": [],
   "source": [
    "partition.plotPymolStructure(level=0, outputPng=True)"
   ]
  },
  {
   "cell_type": "code",
   "execution_count": null,
   "metadata": {},
   "outputs": [],
   "source": [
    "display(Image(f\"{partition.pdbref}.png\"))"
   ]
  },
  {
   "cell_type": "code",
   "execution_count": null,
   "metadata": {},
   "outputs": [],
   "source": [
    "proteinNetwork.plotPymolNetworkStructure(outputPng=True)"
   ]
  },
  {
   "cell_type": "code",
   "execution_count": null,
   "metadata": {},
   "outputs": [],
   "source": [
    "display(Image(f\"{proteinNetwork.pdbref}.png\"))"
   ]
  },
  {
   "cell_type": "code",
   "execution_count": null,
   "metadata": {},
   "outputs": [],
   "source": [
    "# SH2 domain\n",
    "def plotPymolGivenPdbAndChain(pdbReference, chainRef):\n",
    "    inputArgs = {\"scaling\":3.0,\n",
    "    \"edgelisttype\": \"atomic\",\n",
    "    \"hydrogenstatus\": \"noH\",\n",
    "    \"pdbref\": pdbReference,\n",
    "    \"chainref\": chainRef,\n",
    "    \"database\": db}\n",
    "    proteinNetwork = proteinnetworks.network.Network(**inputArgs)\n",
    "    partitionArgs = {\"pdbref\": pdbReference,\n",
    "                     \"edgelistid\": ObjectId(proteinNetwork.edgelistid),\n",
    "                     \"detectionmethod\": \"Infomap\",\n",
    "                    \"N\": 1000,\n",
    "                    \"database\": db}\n",
    "    partition = proteinnetworks.partition.Partition(**partitionArgs)\n",
    "    partition.plotStripeDiagram(includePFAMDomains=True)\n",
    "    partition.plotPymolStructure(level=0, outputPng=True)\n",
    "    display(Image(f\"{partition.pdbref}.png\"))\n",
    "    \n",
    "    \n",
    "def plotPymolGivenPdb(pdbReference):\n",
    "    inputArgs = {\"scaling\":3.0,\n",
    "    \"edgelisttype\": \"residue\",\n",
    "    \"hydrogenstatus\": \"noH\",\n",
    "    \"pdbref\": pdbReference,\n",
    "    \"database\": db}\n",
    "    proteinNetwork = proteinnetworks.network.Network(**inputArgs)\n",
    "    partitionArgs = {\"pdbref\": pdbReference,\n",
    "                     \"edgelistid\": ObjectId(proteinNetwork.edgelistid),\n",
    "                     \"detectionmethod\": \"Infomap\",\n",
    "                    \"N\": 1000,\n",
    "                    \"database\": db}\n",
    "    partition = proteinnetworks.partition.Partition(**partitionArgs)\n",
    "    partition.plotStripeDiagram(includePFAMDomains=True)\n",
    "    partition.plotPymolStructure(level=0, outputPng=True)\n",
    "    display(Image(f\"{partition.pdbref}.png\"))"
   ]
  },
  {
   "cell_type": "code",
   "execution_count": null,
   "metadata": {},
   "outputs": [],
   "source": [
    "plotPymolGivenPdb(\"1pkn\")"
   ]
  },
  {
   "cell_type": "code",
   "execution_count": null,
   "metadata": {},
   "outputs": [],
   "source": [
    "# WHD domain chothia and teichmann\n",
    "pdbs = [\"1hw2\", \"1fok\", \"1boa\"]"
   ]
  },
  {
   "cell_type": "code",
   "execution_count": null,
   "metadata": {
    "scrolled": false
   },
   "outputs": [],
   "source": [
    "for rbr in pdbs:\n",
    "    print(rbr)\n",
    "    plotPymolGivenPdb(rbr)"
   ]
  },
  {
   "cell_type": "code",
   "execution_count": null,
   "metadata": {},
   "outputs": [],
   "source": [
    "plotPymolGivenPdb(\"4eqm\")"
   ]
  },
  {
   "cell_type": "code",
   "execution_count": null,
   "metadata": {},
   "outputs": [],
   "source": [
    "plotPymolGivenPdbAndChain(\"4kct\", \"A\")"
   ]
  },
  {
   "cell_type": "code",
   "execution_count": null,
   "metadata": {},
   "outputs": [],
   "source": [
    "plotPymolGivenPdbAndChain(\"5ws9\", \"A\")"
   ]
  },
  {
   "cell_type": "code",
   "execution_count": null,
   "metadata": {},
   "outputs": [],
   "source": []
  }
 ],
 "metadata": {
  "git": {
   "suppress_outputs": true
  },
  "kernelspec": {
   "display_name": "Python [default]",
   "language": "python",
   "name": "python3"
  },
  "language_info": {
   "codemirror_mode": {
    "name": "ipython",
    "version": 3
   },
   "file_extension": ".py",
   "mimetype": "text/x-python",
   "name": "python",
   "nbconvert_exporter": "python",
   "pygments_lexer": "ipython3",
   "version": "3.6.5"
  }
 },
 "nbformat": 4,
 "nbformat_minor": 2
}