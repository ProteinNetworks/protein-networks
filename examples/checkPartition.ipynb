{
 "cells": [
  {
   "cell_type": "code",
   "execution_count": 1,
   "metadata": {
    "collapsed": false
   },
   "outputs": [],
   "source": [
    "%load_ext autoreload\n",
    "%autoreload 2\n",
    "import proteinnetworks"
   ]
  },
  {
   "cell_type": "code",
   "execution_count": 2,
   "metadata": {
    "collapsed": false
   },
   "outputs": [],
   "source": [
    "db = proteinnetworks.database.Database()"
   ]
  },
  {
   "cell_type": "code",
   "execution_count": 7,
   "metadata": {
    "collapsed": false,
    "scrolled": true
   },
   "outputs": [],
   "source": [
    "inputArgs = {\"scaling\": 4.0,\n",
    "\"edgelisttype\": \"residue\",\n",
    "\"hydrogenstatus\": \"noH\",\n",
    "\"pdbref\": \"2e7u\",\n",
    "\"database\": db}\n",
    "proteinNetwork = proteinnetworks.network.Network(**inputArgs)"
   ]
  },
  {
   "cell_type": "code",
   "execution_count": 8,
   "metadata": {
    "collapsed": true
   },
   "outputs": [],
   "source": [
    "from bson.objectid import ObjectId"
   ]
  },
  {
   "cell_type": "code",
   "execution_count": 19,
   "metadata": {
    "collapsed": false
   },
   "outputs": [],
   "source": [
    "partitionArgs = {\"pdbref\": \"2e7u\",\n",
    "                 \"edgelistid\": ObjectId(proteinNetwork.edgelistid),\n",
    "                 \"detectionmethod\": \"Infomap\",\n",
    "                \"N\": 1000,\n",
    "                \"database\": db}\n",
    "partition = proteinnetworks.partition.Partition(**partitionArgs)"
   ]
  },
  {
   "cell_type": "code",
   "execution_count": 21,
   "metadata": {
    "collapsed": false
   },
   "outputs": [],
   "source": [
    "partition.plotStripeDiagram(includePFAMDomains=True)"
   ]
  },
  {
   "cell_type": "code",
   "execution_count": 27,
   "metadata": {
    "collapsed": false
   },
   "outputs": [],
   "source": [
    "partitionArgs = {\"pdbref\": \"2e7u\",\n",
    "                 \"edgelistid\": ObjectId(proteinNetwork.edgelistid),\n",
    "                 \"detectionmethod\": \"Infomap\",\n",
    "                \"N\": 10000,\n",
    "                \"database\": db}\n",
    "partition = proteinnetworks.partition.Partition(**partitionArgs)\n",
    "partition.plotStripeDiagram(includePFAMDomains=True)"
   ]
  },
  {
   "cell_type": "code",
   "execution_count": null,
   "metadata": {
    "collapsed": true
   },
   "outputs": [],
   "source": []
  }
 ],
 "metadata": {
  "git": {
   "suppress_outputs": true
  },
  "kernelspec": {
   "display_name": "Python [conda root]",
   "language": "python",
   "name": "conda-root-py"
  },
  "language_info": {
   "codemirror_mode": {
    "name": "ipython",
    "version": 3
   },
   "file_extension": ".py",
   "mimetype": "text/x-python",
   "name": "python",
   "nbconvert_exporter": "python",
   "pygments_lexer": "ipython3",
   "version": "3.5.2"
  }
 },
 "nbformat": 4,
 "nbformat_minor": 2
}