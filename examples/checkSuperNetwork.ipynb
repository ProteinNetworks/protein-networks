{
 "cells": [
  {
   "cell_type": "code",
   "execution_count": 41,
   "metadata": {
    "collapsed": false
   },
   "outputs": [],
   "source": [
    "%load_ext autoreload\n",
    "%autoreload 2\n",
    "import proteinnetworks"
   ]
  },
  {
   "cell_type": "code",
   "execution_count": 42,
   "metadata": {
    "collapsed": false
   },
   "outputs": [],
   "source": [
    "db = proteinnetworks.database.Database()"
   ]
  },
  {
   "cell_type": "code",
   "execution_count": 43,
   "metadata": {
    "collapsed": false
   },
   "outputs": [],
   "source": [
    "inputArgs = {\"scaling\": 4.5,\n",
    "\"edgelisttype\": \"residue\",\n",
    "\"hydrogenstatus\": \"noH\",\n",
    "\"pdbref\": \"1ubq\",\n",
    "\"database\": db}\n",
    "proteinNetwork = proteinnetworks.network.Network(**inputArgs)"
   ]
  },
  {
   "cell_type": "code",
   "execution_count": 44,
   "metadata": {
    "collapsed": false
   },
   "outputs": [],
   "source": [
    "from bson.objectid import ObjectId\n",
    "partitionArgs = {\"pdbref\": \"1ubq\",\n",
    "                 \"edgelistid\": ObjectId(proteinNetwork.edgelistid),\n",
    "                 \"detectionmethod\": \"Infomap\",\n",
    "                \"N\": 10,\n",
    "                \"database\": db}\n",
    "partition = proteinnetworks.partition.Partition(**partitionArgs)"
   ]
  },
  {
   "cell_type": "code",
   "execution_count": 45,
   "metadata": {
    "collapsed": false
   },
   "outputs": [],
   "source": [
    "partition.plotStripeDiagram(includePFAMDomains=True)"
   ]
  },
  {
   "cell_type": "code",
   "execution_count": 47,
   "metadata": {
    "collapsed": false
   },
   "outputs": [],
   "source": [
    "superNetwork = proteinnetworks.insight.SuperNetwork(inputpartition=partition)"
   ]
  },
  {
   "cell_type": "code",
   "execution_count": 49,
   "metadata": {
    "collapsed": false
   },
   "outputs": [],
   "source": [
    "superNetwork.draw()"
   ]
  },
  {
   "cell_type": "code",
   "execution_count": null,
   "metadata": {
    "collapsed": true
   },
   "outputs": [],
   "source": []
  }
 ],
 "metadata": {
  "git": {
   "suppress_outputs": true
  },
  "kernelspec": {
   "display_name": "Python [conda root]",
   "language": "python",
   "name": "conda-root-py"
  },
  "language_info": {
   "codemirror_mode": {
    "name": "ipython",
    "version": 3
   },
   "file_extension": ".py",
   "mimetype": "text/x-python",
   "name": "python",
   "nbconvert_exporter": "python",
   "pygments_lexer": "ipython3",
   "version": "3.5.2"
  }
 },
 "nbformat": 4,
 "nbformat_minor": 2
}