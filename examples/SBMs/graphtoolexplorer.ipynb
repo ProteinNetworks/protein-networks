{
 "cells": [
  {
   "cell_type": "markdown",
   "metadata": {},
   "source": [
    "Explore the graph_tool package, in order to do a compare & contrast of SBMs and Infomap"
   ]
  },
  {
   "cell_type": "code",
   "execution_count": 65,
   "metadata": {
    "collapsed": false
   },
   "outputs": [],
   "source": [
    "import graph_tool\n",
    "import graph_tool.inference\n",
    "import numpy as np\n",
    "import matplotlib.pyplot as plt\n",
    "from palettable.colorbrewer.qualitative import Set3_12\n",
    "%matplotlib inline"
   ]
  },
  {
   "cell_type": "code",
   "execution_count": 91,
   "metadata": {
    "collapsed": false
   },
   "outputs": [],
   "source": [
    "edgelistArg= \"3p8t.4.0.dat\"\n",
    "g = graph_tool.load_graph_from_csv(edgelistArg, directed=False,\n",
    "                                   skip_first=True, csv_options={\"delimiter\": \" \"})\n",
    "print(g)"
   ]
  },
  {
   "cell_type": "code",
   "execution_count": 92,
   "metadata": {
    "collapsed": false
   },
   "outputs": [],
   "source": [
    "state = graph_tool.inference.minimize_nested_blockmodel_dl(g, deg_corr=True)"
   ]
  },
  {
   "cell_type": "code",
   "execution_count": 93,
   "metadata": {
    "collapsed": false
   },
   "outputs": [],
   "source": [
    "hierarchical_partition = []\n",
    "for i, innerstate in enumerate(state.get_levels()):\n",
    "    hierarchical_partition.append(list(state.project_level(i).b.get_array()))\n",
    "print(hierarchical_partition)"
   ]
  },
  {
   "cell_type": "code",
   "execution_count": 94,
   "metadata": {
    "collapsed": false,
    "scrolled": true
   },
   "outputs": [],
   "source": [
    "state.draw()"
   ]
  },
  {
   "cell_type": "code",
   "execution_count": 68,
   "metadata": {
    "collapsed": true
   },
   "outputs": [],
   "source": [
    "def plotStripeDiagram(data):\n",
    "    \"\"\"\n",
    "    Plot the partition as a set of \"stripe\" plots.\n",
    "    \"\"\"\n",
    "    # Convert the list (or nested list) to a numpy array, for use with imshow.\n",
    "    stripes = np.asarray(data, dtype=int)\n",
    "    numPlots =  np.shape(stripes)[0]\n",
    "\n",
    "    fig, axes = plt.subplots(nrows=numPlots, figsize=(5, 5), sharex=True)\n",
    "\n",
    "    for i, ax in enumerate(axes):\n",
    "        ax.imshow(\n",
    "            np.vstack(\n",
    "                2 * [stripes[i, :]]),  # vstack otherwise imshow complains\n",
    "            aspect=100,\n",
    "            cmap=Set3_12.mpl_colormap,\n",
    "            interpolation=\"nearest\")\n",
    "        ax.xaxis.set_ticks_position('bottom')\n",
    "        ax.yaxis.set_visible(False)\n",
    "\n",
    "#     plt.suptitle(self.pdbref)\n",
    "    plt.tight_layout()\n",
    "    plt.subplots_adjust(top=0.85)\n",
    "    plt.xlabel('Residue number')\n",
    "    plt.show()"
   ]
  },
  {
   "cell_type": "code",
   "execution_count": 69,
   "metadata": {
    "collapsed": false
   },
   "outputs": [],
   "source": [
    "plotStripeDiagram(hierarchical_partition)"
   ]
  },
  {
   "cell_type": "markdown",
   "metadata": {},
   "source": [
    "The above shows the block model hierarchy. Need to reverse the order and trim the \"all-one-community\" level."
   ]
  },
  {
   "cell_type": "code",
   "execution_count": 95,
   "metadata": {
    "collapsed": false
   },
   "outputs": [],
   "source": [
    "hierarchical_partition =hierarchical_partition[::-1][1:]"
   ]
  },
  {
   "cell_type": "code",
   "execution_count": 73,
   "metadata": {
    "collapsed": false
   },
   "outputs": [],
   "source": [
    "plotStripeDiagram(hierarchical_partition)"
   ]
  },
  {
   "cell_type": "code",
   "execution_count": 76,
   "metadata": {
    "collapsed": false
   },
   "outputs": [],
   "source": [
    "print(len(hierarchical_partition[-1]))\n",
    "print(len(set(hierarchical_partition[-1])))"
   ]
  },
  {
   "cell_type": "code",
   "execution_count": 78,
   "metadata": {
    "collapsed": false
   },
   "outputs": [],
   "source": [
    "state = state.copy(sampling=True)"
   ]
  },
  {
   "cell_type": "code",
   "execution_count": 79,
   "metadata": {
    "collapsed": false
   },
   "outputs": [],
   "source": [
    "graph_tool.inference.mcmc_equilibrate(state)"
   ]
  },
  {
   "cell_type": "code",
   "execution_count": 80,
   "metadata": {
    "collapsed": false
   },
   "outputs": [],
   "source": [
    "state.draw()"
   ]
  },
  {
   "cell_type": "code",
   "execution_count": 81,
   "metadata": {
    "collapsed": true
   },
   "outputs": [],
   "source": [
    "hierarchical_partition_new = []\n",
    "for i, innerstate in enumerate(state.get_levels()):\n",
    "    hierarchical_partition_new.append(list(state.project_level(i).b.get_array()))\n",
    "hierarchical_partition_new = hierarchical_partition_new[::-1][1:]"
   ]
  },
  {
   "cell_type": "code",
   "execution_count": 82,
   "metadata": {
    "collapsed": false
   },
   "outputs": [],
   "source": [
    "plotStripeDiagram(hierarchical_partition_new)"
   ]
  },
  {
   "cell_type": "markdown",
   "metadata": {},
   "source": [
    "So it's looking like mcmc_equilibriate, as I'm currently doing it, isn't the one. \n",
    "\n",
    "Compare with Infomap:"
   ]
  },
  {
   "cell_type": "code",
   "execution_count": 97,
   "metadata": {
    "collapsed": true
   },
   "outputs": [],
   "source": [
    "%load_ext autoreload\n",
    "%autoreload 2\n",
    "\n",
    "import proteinnetworks"
   ]
  },
  {
   "cell_type": "code",
   "execution_count": 84,
   "metadata": {
    "collapsed": false
   },
   "outputs": [],
   "source": [
    "db = proteinnetworks.database.Database()"
   ]
  },
  {
   "cell_type": "code",
   "execution_count": 111,
   "metadata": {
    "collapsed": false
   },
   "outputs": [],
   "source": [
    "inputArgs = {\"scaling\": 4.5,\n",
    "\"edgelisttype\": \"residue\",\n",
    "\"hydrogenstatus\": \"noH\",\n",
    "\"pdbref\": \"3p8t\",\n",
    "\"database\": db}\n",
    "network = proteinnetworks.network.Network(**inputArgs)\n",
    "from bson.objectid import ObjectId\n",
    "partitionArgs = {\"pdbref\": \"3p8t\",\n",
    "                 \"edgelistid\": ObjectId(network.edgelistid),\n",
    "                 \"detectionmethod\": \"Infomap\",\n",
    "                \"N\": 100,\n",
    "                \"database\": db}\n",
    "infomap_partition = proteinnetworks.partition.Partition(**partitionArgs)\n",
    "infomap_partition.plotStripeDiagram(includePFAMDomains=True)"
   ]
  },
  {
   "cell_type": "code",
   "execution_count": 96,
   "metadata": {
    "collapsed": false
   },
   "outputs": [],
   "source": [
    "plotStripeDiagram(hierarchical_partition)"
   ]
  },
  {
   "cell_type": "code",
   "execution_count": 110,
   "metadata": {
    "collapsed": false,
    "scrolled": true
   },
   "outputs": [],
   "source": [
    "proteinnetworks.insight.getNMI(\n",
    "    [x+1 for x in hierarchical_partition[0]], infomap_partition.data[0])"
   ]
  },
  {
   "cell_type": "markdown",
   "metadata": {
    "collapsed": true
   },
   "source": [
    "### Compare the SBM and Infomap outputs visually using Pymol"
   ]
  },
  {
   "cell_type": "code",
   "execution_count": 64,
   "metadata": {
    "collapsed": false
   },
   "outputs": [],
   "source": [
    "%load_ext autoreload\n",
    "%autoreload 2\n",
    "%matplotlib inline\n",
    "import proteinnetworks\n",
    "import glob\n",
    "import matplotlib.pyplot as plt\n",
    "import numpy as np\n",
    "from palettable.colorbrewer.qualitative import Set3_12\n",
    "import os\n",
    "import subprocess"
   ]
  },
  {
   "cell_type": "code",
   "execution_count": 2,
   "metadata": {
    "collapsed": false
   },
   "outputs": [],
   "source": [
    "db = proteinnetworks.database.Database()"
   ]
  },
  {
   "cell_type": "code",
   "execution_count": 7,
   "metadata": {
    "collapsed": true
   },
   "outputs": [],
   "source": [
    "from bson.objectid import ObjectId"
   ]
  },
  {
   "cell_type": "code",
   "execution_count": 39,
   "metadata": {
    "collapsed": true
   },
   "outputs": [],
   "source": [
    "def plotStripeDiagramSideBySide(infomapData, SBMdata, title):\n",
    "    \"\"\"Plot the partition as a set of \"stripe\" plots.\"\"\"\n",
    "    # Convert the list (or nested list) to a numpy array, for use with imshow.\n",
    "    # TODO need a check for if either array is 1d\n",
    "    stripes1 = np.atleast_2d(np.asarray(infomapData, dtype=int))\n",
    "    stripes2 = np.atleast_2d(np.asarray(SBMdata, dtype=int))\n",
    "    numInfomapArrays = np.shape(stripes1)[0]\n",
    "    numSBMArrays = np.shape(stripes2)[0]\n",
    "    print(np.shape(stripes1), np.shape(stripes2))\n",
    "    while numInfomapArrays < numSBMArrays:\n",
    "\n",
    "        # Pad with ones until both arrays are the same shape\n",
    "        stripes1 = np.vstack([stripes1, [1] * np.shape(stripes1)[1]])\n",
    "        numInfomapArrays = np.shape(stripes1)[0]\n",
    "\n",
    "    while numSBMArrays < numInfomapArrays:\n",
    "        # Pad with ones until both arrays are the same shape\n",
    "        stripes2 = np.vstack([stripes2, [1] * np.shape(stripes2)[1]])\n",
    "        numSBMArrays = np.shape(stripes2)[0]\n",
    "\n",
    "    assert numInfomapArrays == numSBMArrays\n",
    "    numPlots = numInfomapArrays\n",
    "\n",
    "    fig, axes = plt.subplots(\n",
    "        nrows=numPlots, ncols=2, figsize=(8, 8), sharex=True)\n",
    "    try:\n",
    "        stripes3 = np.stack([stripes1, stripes2], axis=2)\n",
    "    except ValueError:\n",
    "        print(np.shape(stripes1), np.shape(stripes2))\n",
    "    assert np.all(stripes3[:, :, 0] == stripes1)\n",
    "    for i in range(numInfomapArrays):\n",
    "        axes[i, 0].imshow(\n",
    "            np.vstack(\n",
    "                2 * [stripes3[i, :, 0]]),  # vstack otherwise imshow complains\n",
    "            aspect=100,\n",
    "            cmap=Set3_12.mpl_colormap,\n",
    "            interpolation=\"nearest\")\n",
    "        axes[i, 0].xaxis.set_ticks_position('bottom')\n",
    "        axes[i, 0].yaxis.set_visible(False)\n",
    "    for i in range(numSBMArrays):\n",
    "        axes[i, 1].imshow(\n",
    "            np.vstack(\n",
    "                2 * [stripes3[i, :, 1]]),  # vstack otherwise imshow complains\n",
    "            aspect=100,\n",
    "            cmap=Set3_12.mpl_colormap,\n",
    "            interpolation=\"nearest\")\n",
    "        axes[i, 1].xaxis.set_ticks_position('bottom')\n",
    "        axes[i, 1].yaxis.set_visible(False)\n",
    "    axes[0, 0].set_title(\"Infomap\")\n",
    "    axes[0, 1].set_title(\"SBM\")\n",
    "    plt.suptitle(title)\n",
    "    plt.tight_layout()\n",
    "    plt.subplots_adjust(top=0.85)\n",
    "    plt.xlabel('Residue number')\n",
    "    plt.show()\n"
   ]
  },
  {
   "cell_type": "code",
   "execution_count": 58,
   "metadata": {
    "collapsed": true
   },
   "outputs": [],
   "source": [
    "def getInfomapPartition(pdbRef):\n",
    "    \"\"\"Given a PDB reference, return the list of lists from the database.\"\"\"\n",
    "    global db\n",
    "    inputArgs = {\n",
    "        \"scaling\": 4.0,\n",
    "        \"edgelisttype\": \"residue\",\n",
    "        \"hydrogenstatus\": \"noH\",\n",
    "        \"pdbref\": pdbRef,\n",
    "        \"database\": db\n",
    "    }\n",
    "    proteinNetwork = proteinnetworks.network.Network(**inputArgs)\n",
    "    partitionArgs = {\n",
    "        \"pdbref\": pdbRef,\n",
    "        \"edgelistid\": ObjectId(proteinNetwork.edgelistid),\n",
    "        \"detectionmethod\": \"Infomap\",\n",
    "        \"N\": 100,\n",
    "        \"database\": db\n",
    "    }\n",
    "    partition = proteinnetworks.partition.Partition(**partitionArgs)\n",
    "    return partition"
   ]
  },
  {
   "cell_type": "code",
   "execution_count": 60,
   "metadata": {
    "collapsed": false
   },
   "outputs": [],
   "source": [
    "SBMfiles = glob.glob(\"Data/*.sbm\")\n",
    "SBMfile = np.random.choice(SBMfiles)\n",
    "with open(SBMfile) as flines:\n",
    "    # The + 1 is to maintain consistency with Infomap's labelling.\n",
    "#     print(list(line.split(\" \") for line in flines))\n",
    "    SBMdata = [[int(x) + 1 for x in line.strip().split(\" \")]\n",
    "               for line in flines]\n",
    "    \n",
    "#     print(SBMdata)\n",
    "    \n",
    "    # Get the corresponding Infomap file\n",
    "    pdbRef = os.path.basename(SBMfile)[:4]\n",
    "    print(pdbRef)\n",
    "    try:\n",
    "        partition = getInfomapPartition(pdbRef)\n",
    "    except FileNotFoundError:\n",
    "        print(\"Infomap bug\")\n",
    "#         continue\n",
    "    plotStripeDiagramSideBySide(partition.data, SBMdata, pdbRef)\n"
   ]
  },
  {
   "cell_type": "code",
   "execution_count": 61,
   "metadata": {
    "collapsed": false
   },
   "outputs": [],
   "source": [
    "partition.plotPymolStructure()"
   ]
  },
  {
   "cell_type": "markdown",
   "metadata": {},
   "source": [
    "#### In order to do a proper comparison of the SBM vs Infomap, we need to look at the structure properly "
   ]
  },
  {
   "cell_type": "code",
   "execution_count": 62,
   "metadata": {
    "collapsed": true
   },
   "outputs": [],
   "source": [
    "def plotPymolStructure(pdbRef, SBMData):\n",
    "    \"\"\"Plot the community structure overlaid onto the protein using PyMol.\n",
    "\n",
    "    Generate the sequence of b-factor alterations for each level.\n",
    "    Each column of the input Array alters a Pymol Object of the form\n",
    "    $PDBREF_$INDEX where the pdbref is the 4-character identifier, and index the\n",
    "    column number (starting from zeros)\n",
    "    \"\"\"\n",
    "    pymolCommands = []\n",
    "\n",
    "    selector = \"resi\"\n",
    "    for i, col in enumerate(SBMData):\n",
    "        numberOfCommunities = len(set(col))\n",
    "        col = np.asarray(col, dtype=int)  # necessary for np.where()\n",
    "        pymolCommand = \"\\n\".join([\n",
    "            \"alter {0}_{1} and ({2} {3} ), b={4}\".format(\n",
    "                pdbRef, i, selector,\n",
    "                \" or {} \".format(selector).join(str(x + 1) for x in np.where(col == com)[0]),\n",
    "                com / numberOfCommunities) for com in set(col)\n",
    "        ])\n",
    "        pymolCommands.append(pymolCommand)\n",
    "    \"\"\"\n",
    "    Amalgamate the pymol commands so as to load a pdb file for each level of hierarchy,\n",
    "    then run the bfactor alterations.\n",
    "    \"\"\"\n",
    "    # Write the pdb file out as a temp file for PyMol FIXME\n",
    "    pdb = db.extractPDBFile(pdbRef)\n",
    "    if not pdb:\n",
    "        pdb = db.fetchPDBFileFromWeb(pdbRef)\n",
    "    with open(\"temp.pdb\", mode='w') as flines:\n",
    "        flines.write(\"\\n\".join(pdb))\n",
    "\n",
    "    pymolScript = \"\\n\".join([\n",
    "        \"load temp.pdb, {0}_{1}\".format(pdbRef, i)\n",
    "        for i in range(len(pymolCommands))\n",
    "    ])\n",
    "    pymolScript += \"\\n\"\n",
    "    pymolScript += \"\\n\".join(pymolCommands)\n",
    "    pymolScript += \"\"\"\n",
    "#formatting\n",
    "bg_color white\n",
    "hide all\n",
    "#show sticks\n",
    "show cartoon\n",
    "spectrum b, rainbow,  minimum=0, maximum=1\n",
    "set opaque_background=0\n",
    "set antialias = on\n",
    "set line_smooth = 1\n",
    "set depth_cue = 1\n",
    "set specular = 1\n",
    "set surface_quality = 1\n",
    "set stick_quality = 15\n",
    "set sphere_quality = 2\n",
    "set ray_trace_fog = 0.8\n",
    "set light = (-0.2,0,-1)\n",
    "\n",
    "set ray_shadows, 0\n",
    "set surface_mode, 1\n",
    "set cartoon_side_chain_helper,on\n",
    "rebuild\n",
    "    \"\"\"\n",
    "\n",
    "    with open(\"temp.pml\", mode='w') as flines:\n",
    "        flines.write(pymolScript)\n",
    "\n",
    "    subprocess.run([\"pymol\", \"temp.pml\"])\n",
    "    os.remove(\"temp.pml\")\n",
    "    os.remove(\"temp.pdb\")"
   ]
  },
  {
   "cell_type": "code",
   "execution_count": 70,
   "metadata": {
    "collapsed": false
   },
   "outputs": [],
   "source": [
    "SBMfiles = glob.glob(\"Data/*.sbm\")\n",
    "SBMfile = np.random.choice(SBMfiles)\n",
    "with open(SBMfile) as flines:\n",
    "    # The + 1 is to maintain consistency with Infomap's labelling.\n",
    "#     print(list(line.split(\" \") for line in flines))\n",
    "    SBMdata = [[int(x) + 1 for x in line.strip().split(\" \")]\n",
    "               for line in flines]\n",
    "    \n",
    "    pdbRef = os.path.basename(SBMfile)[:4]\n",
    "    print(pdbRef)\n",
    "    try:\n",
    "        partition = getInfomapPartition(pdbRef)\n",
    "    except FileNotFoundError:\n",
    "        print(\"Infomap bug\")\n",
    "#         continue\n",
    "    plotPymolStructure(pdbRef, SBMdata)\n",
    "    partition.plotPymolStructure()"
   ]
  },
  {
   "cell_type": "code",
   "execution_count": null,
   "metadata": {
    "collapsed": true
   },
   "outputs": [],
   "source": [
    "plotPymolStructure()"
   ]
  }
 ],
 "metadata": {
  "git": {
   "suppress_outputs": true
  },
  "kernelspec": {
   "display_name": "Python [conda root]",
   "language": "python",
   "name": "conda-root-py"
  },
  "language_info": {
   "codemirror_mode": {
    "name": "ipython",
    "version": 3
   },
   "file_extension": ".py",
   "mimetype": "text/x-python",
   "name": "python",
   "nbconvert_exporter": "python",
   "pygments_lexer": "ipython3",
   "version": "3.5.2"
  }
 },
 "nbformat": 4,
 "nbformat_minor": 2
}