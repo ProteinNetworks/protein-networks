{
 "cells": [
  {
   "cell_type": "markdown",
   "metadata": {},
   "source": [
    "Explore the graph_tool package, in order to do a compare & contrast of SBMs and Infomap"
   ]
  },
  {
   "cell_type": "code",
   "execution_count": 65,
   "metadata": {
    "collapsed": false
   },
   "outputs": [],
   "source": [
    "import graph_tool\n",
    "import graph_tool.inference\n",
    "import numpy as np\n",
    "import matplotlib.pyplot as plt\n",
    "from palettable.colorbrewer.qualitative import Set3_12\n",
    "%matplotlib inline"
   ]
  },
  {
   "cell_type": "code",
   "execution_count": 91,
   "metadata": {
    "collapsed": false
   },
   "outputs": [],
   "source": [
    "edgelistArg= \"3p8t.4.0.dat\"\n",
    "g = graph_tool.load_graph_from_csv(edgelistArg, directed=False,\n",
    "                                   skip_first=True, csv_options={\"delimiter\": \" \"})\n",
    "print(g)"
   ]
  },
  {
   "cell_type": "code",
   "execution_count": 92,
   "metadata": {
    "collapsed": false
   },
   "outputs": [],
   "source": [
    "state = graph_tool.inference.minimize_nested_blockmodel_dl(g, deg_corr=True)"
   ]
  },
  {
   "cell_type": "code",
   "execution_count": 93,
   "metadata": {
    "collapsed": false
   },
   "outputs": [],
   "source": [
    "hierarchical_partition = []\n",
    "for i, innerstate in enumerate(state.get_levels()):\n",
    "    hierarchical_partition.append(list(state.project_level(i).b.get_array()))\n",
    "print(hierarchical_partition)"
   ]
  },
  {
   "cell_type": "code",
   "execution_count": 94,
   "metadata": {
    "collapsed": false,
    "scrolled": true
   },
   "outputs": [],
   "source": [
    "state.draw()"
   ]
  },
  {
   "cell_type": "code",
   "execution_count": 68,
   "metadata": {
    "collapsed": true
   },
   "outputs": [],
   "source": [
    "def plotStripeDiagram(data):\n",
    "    \"\"\"\n",
    "    Plot the partition as a set of \"stripe\" plots.\n",
    "    \"\"\"\n",
    "    # Convert the list (or nested list) to a numpy array, for use with imshow.\n",
    "    stripes = np.asarray(data, dtype=int)\n",
    "    numPlots =  np.shape(stripes)[0]\n",
    "\n",
    "    fig, axes = plt.subplots(nrows=numPlots, figsize=(5, 5), sharex=True)\n",
    "\n",
    "    for i, ax in enumerate(axes):\n",
    "        ax.imshow(\n",
    "            np.vstack(\n",
    "                2 * [stripes[i, :]]),  # vstack otherwise imshow complains\n",
    "            aspect=100,\n",
    "            cmap=Set3_12.mpl_colormap,\n",
    "            interpolation=\"nearest\")\n",
    "        ax.xaxis.set_ticks_position('bottom')\n",
    "        ax.yaxis.set_visible(False)\n",
    "\n",
    "#     plt.suptitle(self.pdbref)\n",
    "    plt.tight_layout()\n",
    "    plt.subplots_adjust(top=0.85)\n",
    "    plt.xlabel('Residue number')\n",
    "    plt.show()"
   ]
  },
  {
   "cell_type": "code",
   "execution_count": 69,
   "metadata": {
    "collapsed": false
   },
   "outputs": [],
   "source": [
    "plotStripeDiagram(hierarchical_partition)"
   ]
  },
  {
   "cell_type": "markdown",
   "metadata": {},
   "source": [
    "The above shows the block model hierarchy. Need to reverse the order and trim the \"all-one-community\" level."
   ]
  },
  {
   "cell_type": "code",
   "execution_count": 95,
   "metadata": {
    "collapsed": false
   },
   "outputs": [],
   "source": [
    "hierarchical_partition =hierarchical_partition[::-1][1:]"
   ]
  },
  {
   "cell_type": "code",
   "execution_count": 73,
   "metadata": {
    "collapsed": false
   },
   "outputs": [],
   "source": [
    "plotStripeDiagram(hierarchical_partition)"
   ]
  },
  {
   "cell_type": "code",
   "execution_count": 76,
   "metadata": {
    "collapsed": false
   },
   "outputs": [],
   "source": [
    "print(len(hierarchical_partition[-1]))\n",
    "print(len(set(hierarchical_partition[-1])))"
   ]
  },
  {
   "cell_type": "code",
   "execution_count": 78,
   "metadata": {
    "collapsed": false
   },
   "outputs": [],
   "source": [
    "state = state.copy(sampling=True)"
   ]
  },
  {
   "cell_type": "code",
   "execution_count": 79,
   "metadata": {
    "collapsed": false
   },
   "outputs": [],
   "source": [
    "graph_tool.inference.mcmc_equilibrate(state)"
   ]
  },
  {
   "cell_type": "code",
   "execution_count": 80,
   "metadata": {
    "collapsed": false
   },
   "outputs": [],
   "source": [
    "state.draw()"
   ]
  },
  {
   "cell_type": "code",
   "execution_count": 81,
   "metadata": {
    "collapsed": true
   },
   "outputs": [],
   "source": [
    "hierarchical_partition_new = []\n",
    "for i, innerstate in enumerate(state.get_levels()):\n",
    "    hierarchical_partition_new.append(list(state.project_level(i).b.get_array()))\n",
    "hierarchical_partition_new = hierarchical_partition_new[::-1][1:]"
   ]
  },
  {
   "cell_type": "code",
   "execution_count": 82,
   "metadata": {
    "collapsed": false
   },
   "outputs": [],
   "source": [
    "plotStripeDiagram(hierarchical_partition_new)"
   ]
  },
  {
   "cell_type": "markdown",
   "metadata": {},
   "source": [
    "So it's looking like mcmc_equilibriate, as I'm currently doing it, isn't the one. \n",
    "\n",
    "Compare with Infomap:"
   ]
  },
  {
   "cell_type": "code",
   "execution_count": 97,
   "metadata": {
    "collapsed": true
   },
   "outputs": [],
   "source": [
    "%load_ext autoreload\n",
    "%autoreload 2\n",
    "\n",
    "import proteinnetworks"
   ]
  },
  {
   "cell_type": "code",
   "execution_count": 84,
   "metadata": {
    "collapsed": false
   },
   "outputs": [],
   "source": [
    "db = proteinnetworks.database.Database()"
   ]
  },
  {
   "cell_type": "code",
   "execution_count": 111,
   "metadata": {
    "collapsed": false
   },
   "outputs": [],
   "source": [
    "inputArgs = {\"scaling\": 4.5,\n",
    "\"edgelisttype\": \"residue\",\n",
    "\"hydrogenstatus\": \"noH\",\n",
    "\"pdbref\": \"3p8t\",\n",
    "\"database\": db}\n",
    "network = proteinnetworks.network.Network(**inputArgs)\n",
    "from bson.objectid import ObjectId\n",
    "partitionArgs = {\"pdbref\": \"3p8t\",\n",
    "                 \"edgelistid\": ObjectId(network.edgelistid),\n",
    "                 \"detectionmethod\": \"Infomap\",\n",
    "                \"N\": 100,\n",
    "                \"database\": db}\n",
    "infomap_partition = proteinnetworks.partition.Partition(**partitionArgs)\n",
    "infomap_partition.plotStripeDiagram(includePFAMDomains=True)"
   ]
  },
  {
   "cell_type": "code",
   "execution_count": 96,
   "metadata": {
    "collapsed": false
   },
   "outputs": [],
   "source": [
    "plotStripeDiagram(hierarchical_partition)"
   ]
  },
  {
   "cell_type": "code",
   "execution_count": 110,
   "metadata": {
    "collapsed": false,
    "scrolled": true
   },
   "outputs": [],
   "source": [
    "proteinnetworks.insight.getNMI(\n",
    "    [x+1 for x in hierarchical_partition[0]], infomap_partition.data[0])"
   ]
  },
  {
   "cell_type": "code",
   "execution_count": null,
   "metadata": {
    "collapsed": true
   },
   "outputs": [],
   "source": []
  }
 ],
 "metadata": {
  "git": {
   "suppress_outputs": true
  },
  "kernelspec": {
   "display_name": "Python [conda root]",
   "language": "python",
   "name": "conda-root-py"
  },
  "language_info": {
   "codemirror_mode": {
    "name": "ipython",
    "version": 3
   },
   "file_extension": ".py",
   "mimetype": "text/x-python",
   "name": "python",
   "nbconvert_exporter": "python",
   "pygments_lexer": "ipython3",
   "version": "3.5.2"
  }
 },
 "nbformat": 4,
 "nbformat_minor": 2
}