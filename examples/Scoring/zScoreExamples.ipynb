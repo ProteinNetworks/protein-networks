{
 "cells": [
  {
   "cell_type": "code",
   "execution_count": 27,
   "metadata": {
    "collapsed": false
   },
   "outputs": [],
   "source": [
    "\"\"\"\n",
    "Take some examples of well-matching and poorly-matching z scores.\n",
    "\n",
    "Plot the stripe diagram.\n",
    "\"\"\"\n",
    "import proteinnetworks\n",
    "\n",
    "\n",
    "with open(\"./allZScores.dat\") as flines:\n",
    "    zScores = [line.strip().split() for line in flines]\n",
    "\n",
    "# Strip any nans\n",
    "zScores = sorted([x for x in zScores if x[1] != \"nan\"], key= lambda k: float(k[1]))\n",
    "for i, j in zScores:\n",
    "    print(i, j)\n",
    "zScores = {x[0]: float(x[1]) for x in zScores}"
   ]
  },
  {
   "cell_type": "code",
   "execution_count": 4,
   "metadata": {
    "collapsed": false
   },
   "outputs": [],
   "source": [
    "# Pick a PDB file, and plot its stripe\n",
    "db = proteinnetworks.database.Database()"
   ]
  },
  {
   "cell_type": "code",
   "execution_count": 5,
   "metadata": {
    "collapsed": true
   },
   "outputs": [],
   "source": [
    "def plotStripeFromPDB(pdb):\n",
    "    \"\"\"Given a PDB reference, attempt to plot the sequence.\"\"\"\n",
    "    global db\n",
    "    from bson.objectid import ObjectId\n",
    "    inputArgs = {\"scaling\": 4.5,\n",
    "    \"edgelisttype\": \"residue\",\n",
    "    \"hydrogenstatus\": \"noH\",\n",
    "    \"pdbref\": pdb,\n",
    "    \"database\": db}\n",
    "    network = proteinnetworks.network.Network(**inputArgs)\n",
    "    partitionArgs = {\"pdbref\": pdb,\n",
    "                     \"edgelistid\": ObjectId(network.edgelistid),\n",
    "                     \"detectionmethod\": \"Infomap\",\n",
    "                    \"N\": 100,\n",
    "                    \"database\": db}\n",
    "    partition = proteinnetworks.partition.Partition(**partitionArgs)\n",
    "    partition.plotStripeDiagram(includePFAMDomains=True)"
   ]
  },
  {
   "cell_type": "code",
   "execution_count": 28,
   "metadata": {
    "collapsed": false
   },
   "outputs": [],
   "source": [
    "plotStripeFromPDB(\"3egw\")\n",
    "print(zScores[\"3egw\"])"
   ]
  },
  {
   "cell_type": "code",
   "execution_count": null,
   "metadata": {
    "collapsed": true
   },
   "outputs": [],
   "source": []
  }
 ],
 "metadata": {
  "git": {
   "suppress_outputs": true
  },
  "kernelspec": {
   "display_name": "Python [conda root]",
   "language": "python",
   "name": "conda-root-py"
  },
  "language_info": {
   "codemirror_mode": {
    "name": "ipython",
    "version": 3
   },
   "file_extension": ".py",
   "mimetype": "text/x-python",
   "name": "python",
   "nbconvert_exporter": "python",
   "pygments_lexer": "ipython3",
   "version": "3.5.2"
  }
 },
 "nbformat": 4,
 "nbformat_minor": 2
}