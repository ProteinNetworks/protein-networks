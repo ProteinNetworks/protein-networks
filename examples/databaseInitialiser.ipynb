{
 "cells": [
  {
   "cell_type": "markdown",
   "metadata": {},
   "source": [
    "### Creates the MongoDB database, from all the data I have scattered around my filesystem.\n",
    "\n",
    "MongoDB database format:  \n",
    "database: proteinnetworks  \n",
    "\n",
    "collection: proteinnetworks  \n",
    "\n",
    "document has fields:  \n",
    "    _id: bla  \n",
    "    pdbref: bla  \n",
    "    lastmodified: date  \n",
    "    doctype: (edgelist | partition | pdbfile ) currently   \n",
    "\n",
    "if doctype == edgelist:  \n",
    "    edgelisttype: (atomic | residue)  \n",
    "    hydrogenstatus: (noH | Hatoms | Hbonds) (i.e. preprocessed with nothing, HAAD, or Stride)  \n",
    "    scaling: the value of the cutoff used  \n",
    "    data: the actual edgelist  \n",
    "  \n",
    "if doctype == partition:  \n",
    "    edgelistid: The _id of the edgelist used in generating the partition  \n",
    "    detectionmethod: (AFG | Infomap) as it stands  \n",
    "  \n",
    "    if detectionmethod == AFG:  \n",
    "        r : The AFG parameter used in generating the partition  \n",
    "        data: The 1D array giving the partition  \n",
    "  \n",
    "    if detectionmethod == Infomap:  \n",
    "        data: A 2D numpy array giving the data  \n",
    "  \n",
    "if doctype == pdbfile:  \n",
    "    data: The PDBfile itself  \n",
    "\n",
    "  \n",
    "NB this might be too large for MongoDB to handle (>16MB)  "
   ]
  },
  {
   "cell_type": "code",
   "execution_count": 12,
   "metadata": {
    "collapsed": true
   },
   "outputs": [],
   "source": [
    "import pymongo\n",
    "import glob\n",
    "import os"
   ]
  },
  {
   "cell_type": "code",
   "execution_count": 5,
   "metadata": {
    "collapsed": true
   },
   "outputs": [],
   "source": [
    "client = pymongo.MongoClient()\n",
    "db = client.proteinnetworks\n",
    "collection = db.proteinnetworks"
   ]
  },
  {
   "cell_type": "markdown",
   "metadata": {},
   "source": [
    "The contact networks are stored in /home/will/MainProject/Topology/contactnetworks/????/ , where ???? is the PDB reference"
   ]
  },
  {
   "cell_type": "code",
   "execution_count": 9,
   "metadata": {
    "collapsed": true
   },
   "outputs": [],
   "source": [
    "edgelists = glob.glob(\"/home/will/MainProject/Topology/contactnetworks/????/????.?.?.dat\")"
   ]
  },
  {
   "cell_type": "code",
   "execution_count": 11,
   "metadata": {
    "collapsed": false
   },
   "outputs": [],
   "source": [
    "for edgelist in edgelists:\n",
    "    pdbref = os.path.basename(edgelist)"
   ]
  },
  {
   "cell_type": "code",
   "execution_count": null,
   "metadata": {
    "collapsed": true
   },
   "outputs": [],
   "source": []
  }
 ],
 "metadata": {
  "git": {
   "suppress_outputs": true
  },
  "kernelspec": {
   "display_name": "Python [conda root]",
   "language": "python",
   "name": "conda-root-py"
  },
  "language_info": {
   "codemirror_mode": {
    "name": "ipython",
    "version": 3
   },
   "file_extension": ".py",
   "mimetype": "text/x-python",
   "name": "python",
   "nbconvert_exporter": "python",
   "pygments_lexer": "ipython3",
   "version": "3.5.2"
  }
 },
 "nbformat": 4,
 "nbformat_minor": 2
}