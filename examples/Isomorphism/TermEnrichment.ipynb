{
 "cells": [
  {
   "cell_type": "markdown",
   "metadata": {},
   "source": [
    "# Term Enrichment\n",
    "\n",
    "Calculate the enrichment of each GO term, for each IsoClass\n",
    "\n",
    "## Algo\n",
    "First calculate the number of PDBs in the base set (=N)\n",
    "- For each IsoClass:\n",
    "    - Find the number of PDBs in the IsoClass (= n)\n",
    "    - For each GO term:\n",
    "        - Find the number of times the term occurs in the IsoClass (= k)\n",
    "        - Find the number of times the term occurs in the base set (= K)\n",
    "        - Get the p-value using the CDF of the hypergeometric distribution\n",
    "        - Store the p-value"
   ]
  },
  {
   "cell_type": "code",
   "execution_count": 17,
   "metadata": {
    "collapsed": false
   },
   "outputs": [],
   "source": [
    "# Read the PDB references corresponding to the isoClasses, and from them construct the base set.\n",
    "with open(\"./isomorphicProteins.dat\") as flines:\n",
    "    isoClasses = [line.strip().split(\" \") for line in flines]\n",
    "\n",
    "allProteins = set(x for sublist in isoClasses for x in sublist)  # The \"base data\"\n",
    "N = len(allProteins)\n",
    "\n",
    "# Strip out the isoClasses with only one protein.\n",
    "isoClasses = [x for x in isoClasses if len(x) != 1]\n"
   ]
  },
  {
   "cell_type": "code",
   "execution_count": 5,
   "metadata": {
    "collapsed": true
   },
   "outputs": [],
   "source": [
    "# Pull the data into pandas. Then filter such that only rows with PDB\n",
    "# in basePDBs is there (For getting K later).\n",
    "import pandas as pd\n",
    "\n",
    "df = pd.read_csv(\"pdb_chain_go.tsv\", sep=\"\\t\", header=0, usecols=[\"PDB\", \"GO_ID\"])\n",
    "df = df[df['PDB'].isin(allProteins)]"
   ]
  },
  {
   "cell_type": "code",
   "execution_count": 6,
   "metadata": {
    "collapsed": false
   },
   "outputs": [
    {
     "data": {
      "text/html": [
       "<div>\n",
       "<table border=\"1\" class=\"dataframe\">\n",
       "  <thead>\n",
       "    <tr style=\"text-align: right;\">\n",
       "      <th></th>\n",
       "      <th>PDB</th>\n",
       "      <th>GO_ID</th>\n",
       "    </tr>\n",
       "  </thead>\n",
       "  <tbody>\n",
       "    <tr>\n",
       "      <th>2870</th>\n",
       "      <td>16pk</td>\n",
       "      <td>GO:0004618</td>\n",
       "    </tr>\n",
       "    <tr>\n",
       "      <th>2871</th>\n",
       "      <td>16pk</td>\n",
       "      <td>GO:0006096</td>\n",
       "    </tr>\n",
       "    <tr>\n",
       "      <th>2872</th>\n",
       "      <td>16pk</td>\n",
       "      <td>GO:0004618</td>\n",
       "    </tr>\n",
       "    <tr>\n",
       "      <th>2873</th>\n",
       "      <td>16pk</td>\n",
       "      <td>GO:0006096</td>\n",
       "    </tr>\n",
       "    <tr>\n",
       "      <th>2874</th>\n",
       "      <td>16pk</td>\n",
       "      <td>GO:0004618</td>\n",
       "    </tr>\n",
       "  </tbody>\n",
       "</table>\n",
       "</div>"
      ],
      "text/plain": [
       "       PDB       GO_ID\n",
       "2870  16pk  GO:0004618\n",
       "2871  16pk  GO:0006096\n",
       "2872  16pk  GO:0004618\n",
       "2873  16pk  GO:0006096\n",
       "2874  16pk  GO:0004618"
      ]
     },
     "execution_count": 6,
     "metadata": {},
     "output_type": "execute_result"
    }
   ],
   "source": [
    "df.head()"
   ]
  },
  {
   "cell_type": "code",
   "execution_count": 10,
   "metadata": {
    "collapsed": false
   },
   "outputs": [],
   "source": [
    "# Lists of how common each GO term is. (Gives K)\n",
    "GOcounts = df['GO_ID'].value_counts()"
   ]
  },
  {
   "cell_type": "code",
   "execution_count": 47,
   "metadata": {
    "collapsed": false
   },
   "outputs": [],
   "source": [
    "from scipy.stats import hypergeom\n",
    "enrichmentJson = []\n",
    "for i, isoClass in enumerate(isoClasses):\n",
    "    n = len(isoClass)\n",
    "    # Get the number of occurrences of each GO term that occurs at least once in the dataset.\n",
    "    GOtermsPresent = df[df['PDB'].isin(isoClass)]['GO_ID'].value_counts()\n",
    "    # Get the enrichment for each term\n",
    "    GOterms = []\n",
    "    for GOterm, k in GOtermsPresent.iteritems():\n",
    "        K = GOcounts[GOterm]\n",
    "        GOterms.append(dict({\"GOlabel\": str(GOterm), \"k\": str(k), \"N\": str(N), \"n\": str(n), \"K\": str(K), \"p\": str(hypergeom.cdf(k, N, n, K))}))\n",
    "\n",
    "    enrichmentDict= {\"isoClass\": isoClass, \"GOterms\": GOterms}\n",
    "    enrichmentJson.append(dict(enrichmentDict))\n",
    "\n",
    "import json\n",
    "with open(\"GOterms.json\", mode='w') as flines:\n",
    "    json.dump(enrichmentJson, flines, indent=2)\n",
    "        "
   ]
  },
  {
   "cell_type": "code",
   "execution_count": null,
   "metadata": {
    "collapsed": true
   },
   "outputs": [],
   "source": []
  }
 ],
 "metadata": {
  "kernelspec": {
   "display_name": "Python [conda root]",
   "language": "python",
   "name": "conda-root-py"
  },
  "language_info": {
   "codemirror_mode": {
    "name": "ipython",
    "version": 3
   },
   "file_extension": ".py",
   "mimetype": "text/x-python",
   "name": "python",
   "nbconvert_exporter": "python",
   "pygments_lexer": "ipython3",
   "version": "3.5.2"
  }
 },
 "nbformat": 4,
 "nbformat_minor": 2
}
