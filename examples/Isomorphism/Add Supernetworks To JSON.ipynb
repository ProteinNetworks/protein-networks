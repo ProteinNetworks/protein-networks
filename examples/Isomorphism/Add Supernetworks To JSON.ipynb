{
 "cells": [
  {
   "cell_type": "markdown",
   "metadata": {},
   "source": [
    "Take the GOterms with unique info, Bonferroni correction etc. Reformat into something with nodes and links, for displaying with D3"
   ]
  },
  {
   "cell_type": "code",
   "execution_count": 2,
   "metadata": {
    "collapsed": false
   },
   "outputs": [
    {
     "name": "stdout",
     "output_type": "stream",
     "text": [
      "password: 8moMlmkRnZurXsl\n"
     ]
    }
   ],
   "source": [
    "import json\n",
    "with open(\"./GOtermsCorrectedUnique.json\") as flines:\n",
    "    enrichment = json.load(flines)\n",
    "    \n",
    "%load_ext autoreload\n",
    "%autoreload 2\n",
    "import proteinnetworks\n",
    "from bson.objectid import ObjectId\n",
    "db = proteinnetworks.database.Database()\n"
   ]
  },
  {
   "cell_type": "markdown",
   "metadata": {},
   "source": [
    "### Data structure format.\n",
    "Array of [isoClass, GOterms], where isoClass is a list of PDBs, and GOterms is a dict including \"GOlabel\" and \"pCorr\""
   ]
  },
  {
   "cell_type": "code",
   "execution_count": 36,
   "metadata": {
    "collapsed": false,
    "scrolled": false
   },
   "outputs": [],
   "source": [
    "# For each isoClass, generate the supernetwork for the first pdb (should be the same for all).\n",
    "data = []\n",
    "nodes = []\n",
    "links = []\n",
    "for group, isoClass in enumerate(enrichment):\n",
    "    pdb = isoClass['isoClass'][0]\n",
    "    # Extract/Generate the edgelist\n",
    "    inputArgs = {\n",
    "        \"scaling\": 4.5,\n",
    "        \"edgelisttype\": \"residue\",\n",
    "        \"hydrogenstatus\": \"noH\",\n",
    "        \"pdbref\": pdb,\n",
    "        \"database\": db\n",
    "    }\n",
    "    proteinNetwork = proteinnetworks.network.Network(**inputArgs)\n",
    "    # Extract/Generate the partition\n",
    "    partitionArgs = {\n",
    "        \"pdbref\": pdb,\n",
    "        \"edgelistid\": ObjectId(proteinNetwork.edgelistid),\n",
    "        \"detectionmethod\": \"Infomap\",\n",
    "        \"N\": 100,\n",
    "        \"database\": db\n",
    "    }\n",
    "    partition = proteinnetworks.partition.Partition(**partitionArgs)\n",
    "    superNetwork = proteinnetworks.insight.SuperNetwork(\n",
    "        inputpartition=partition)\n",
    "    \n",
    "    # Add the data to be tabulated\n",
    "    isoClassInfo = {\"group\": group, \"PDBs\": isoClass['isoClass'], \"GOterms\": isoClass['GOterms']}\n",
    "    data.append(isoClassInfo)    \n",
    "    #Add the nodes and links\n",
    "    # For the nodes: get the maximum value currently in \"nodes\"\n",
    "    # Must offset by this amount\n",
    "    if nodes:\n",
    "        offset = max([x[\"name\"] for x in nodes])\n",
    "    else:\n",
    "        offset = 0\n",
    "\n",
    "    # Get the largest node in superNetwork.data\n",
    "    try:\n",
    "        largestNode = max(map(max, [[i, j] for i, j, _ in superNetwork.data]))\n",
    "    except ValueError as e:\n",
    "        #FOR NOW, THIS IS BAD!\n",
    "        continue\n",
    "    isoClassNodes = [{\"name\": i + 1 + offset, \"group\": group} for i in range(largestNode)]\n",
    "    \n",
    "    isoClassLinks = [{\"source\": i - 1 + offset,\n",
    "                      \"target\": j - 1 + offset,\n",
    "                      \"value\": 1} for i, j, _ in superNetwork.data]\n",
    "    \n",
    "    nodes += isoClassNodes\n",
    "    links += isoClassLinks\n",
    "    \n",
    "d3json = {\"nodes\": nodes, \"links\": links, \"data\": data}\n",
    "\n",
    "with open(\"GOtermsD3.json\", mode='w') as flines:\n",
    "    json.dump(fp=flines, obj=d3json)\n"
   ]
  },
  {
   "cell_type": "code",
   "execution_count": null,
   "metadata": {
    "collapsed": true
   },
   "outputs": [],
   "source": []
  }
 ],
 "metadata": {
  "kernelspec": {
   "display_name": "Python [conda root]",
   "language": "python",
   "name": "conda-root-py"
  },
  "language_info": {
   "codemirror_mode": {
    "name": "ipython",
    "version": 3
   },
   "file_extension": ".py",
   "mimetype": "text/x-python",
   "name": "python",
   "nbconvert_exporter": "python",
   "pygments_lexer": "ipython3",
   "version": "3.5.2"
  }
 },
 "nbformat": 4,
 "nbformat_minor": 2
}
