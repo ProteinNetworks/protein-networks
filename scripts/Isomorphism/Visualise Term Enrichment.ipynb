{
 "cells": [
  {
   "cell_type": "markdown",
   "metadata": {},
   "source": [
    "# Visualise Term Enrichment\n",
    "\n",
    "An attempt to show which GO terms are enriched within an Iso class"
   ]
  },
  {
   "cell_type": "code",
   "execution_count": 1,
   "metadata": {
    "collapsed": false
   },
   "outputs": [],
   "source": [
    "import json\n",
    "with open(\"./GOtermsCorrectedUnique.json\") as flines:\n",
    "    enrichment = json.load(flines)"
   ]
  },
  {
   "cell_type": "markdown",
   "metadata": {
    "collapsed": true
   },
   "source": [
    "### Data structure format.\n",
    "Array of [isoClass, GOterms], where isoClass is a list of PDBs, and GOterms is a dict including \"GOlabel\" and \"pCorr\""
   ]
  },
  {
   "cell_type": "code",
   "execution_count": 2,
   "metadata": {
    "collapsed": false
   },
   "outputs": [],
   "source": [
    "GOterms = []\n",
    "for isoClass in enrichment:\n",
    "    print(\"pdbs:\")\n",
    "    print(\" \".join(isoClass['isoClass']))\n",
    "    print(\"total number of associated GO terms:\", len(isoClass['GOterms']))\n",
    "    print(\"GO terms unique to this class with p <0.01:\")\n",
    "    uniqueEnrichedTerms = [x for x in isoClass['GOterms'] if float(x['pCorr']) < 0.01 and x['isUnique']]\n",
    "    # Sort by enrichment\n",
    "    uniqueEnrichedTerms = sorted(uniqueEnrichedTerms, key=lambda k: float(k['pCorr']))\n",
    "    for term in uniqueEnrichedTerms:\n",
    "        print(term['GOlabel'], term['pCorr'])\n",
    "    print()\n",
    "    print()\n"
   ]
  },
  {
   "cell_type": "code",
   "execution_count": null,
   "metadata": {
    "collapsed": true
   },
   "outputs": [],
   "source": []
  }
 ],
 "metadata": {
  "git": {
   "suppress_outputs": true
  },
  "kernelspec": {
   "display_name": "Python [conda root]",
   "language": "python",
   "name": "conda-root-py"
  },
  "language_info": {
   "codemirror_mode": {
    "name": "ipython",
    "version": 3
   },
   "file_extension": ".py",
   "mimetype": "text/x-python",
   "name": "python",
   "nbconvert_exporter": "python",
   "pygments_lexer": "ipython3",
   "version": "3.5.2"
  }
 },
 "nbformat": 4,
 "nbformat_minor": 2
}