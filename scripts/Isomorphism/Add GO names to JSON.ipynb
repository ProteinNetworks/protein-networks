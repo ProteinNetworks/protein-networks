{
 "cells": [
  {
   "cell_type": "markdown",
   "metadata": {},
   "source": [
    "Take the GOterms with unique info, Bonferroni correction etc. Reformat into something with nodes and links, for displaying with D3"
   ]
  },
  {
   "cell_type": "code",
   "execution_count": 29,
   "metadata": {
    "collapsed": false
   },
   "outputs": [],
   "source": [
    "import json\n",
    "with open(\"./GOtermsD3.json\") as flines:\n",
    "    enrichment = json.load(flines)\n",
    "\n"
   ]
  },
  {
   "cell_type": "code",
   "execution_count": 21,
   "metadata": {
    "collapsed": false
   },
   "outputs": [],
   "source": [
    "# Generate the label: name map\n",
    "goMapping = {}\n",
    "with open(\"./GOinfo/GOtermswithannotation.dat\") as flines:\n",
    "    for line in flines:\n",
    "        name = \" \".join(line.split()[4:])\n",
    "        label = line.split()[1]\n",
    "        goMapping[label] = name"
   ]
  },
  {
   "cell_type": "markdown",
   "metadata": {},
   "source": [
    "### Data structure format.\n",
    "Array of [PDBs, GOterms], where PDBs is a list of PDBs, and GOterms is a dict including \"GOlabel\" and \"pCorr\". Want to trim the irrelevant info"
   ]
  },
  {
   "cell_type": "code",
   "execution_count": 30,
   "metadata": {
    "collapsed": false,
    "scrolled": false
   },
   "outputs": [],
   "source": [
    "\n",
    "for record in enrichment['data']:\n",
    "    newGOterms = []\n",
    "    for x in record['GOterms']:\n",
    "            try:\n",
    "                name = goMapping[x['GOlabel']]\n",
    "            except KeyError:\n",
    "                name = \"NA\"\n",
    "            try:\n",
    "                if float(x['pCorr']) < 0.01:\n",
    "                    newGOterms.append({\"Corrected p value\": x['pCorr'],\n",
    "                       \"GO Label\": x['GOlabel'],\n",
    "                       \"Unique\": x['isUnique'],\n",
    "                       \"GO Name\": name})\n",
    "            except KeyError:\n",
    "                print(x)\n",
    "                asofijsdoif\n",
    "    record['GOterms'] =newGOterms\n",
    "    \n",
    "with open(\"./GOtermsD3WithNames.json\", mode='w') as flines:\n",
    "    json.dump(fp=flines, obj=enrichment)"
   ]
  },
  {
   "cell_type": "code",
   "execution_count": 31,
   "metadata": {
    "collapsed": true
   },
   "outputs": [],
   "source": [
    "with open(\"GOtermsD3WithNames.json\") as flines:\n",
    "    newEnrichment = json.load(flines)"
   ]
  },
  {
   "cell_type": "code",
   "execution_count": 32,
   "metadata": {
    "collapsed": false
   },
   "outputs": [],
   "source": [
    "print(newEnrichment)"
   ]
  },
  {
   "cell_type": "code",
   "execution_count": null,
   "metadata": {
    "collapsed": true
   },
   "outputs": [],
   "source": []
  }
 ],
 "metadata": {
  "git": {
   "suppress_outputs": true
  },
  "kernelspec": {
   "display_name": "Python [conda root]",
   "language": "python",
   "name": "conda-root-py"
  },
  "language_info": {
   "codemirror_mode": {
    "name": "ipython",
    "version": 3
   },
   "file_extension": ".py",
   "mimetype": "text/x-python",
   "name": "python",
   "nbconvert_exporter": "python",
   "pygments_lexer": "ipython3",
   "version": "3.5.2"
  }
 },
 "nbformat": 4,
 "nbformat_minor": 2
}